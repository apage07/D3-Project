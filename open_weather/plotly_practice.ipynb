{
 "cells": [
  {
   "cell_type": "code",
   "execution_count": 68,
   "metadata": {},
   "outputs": [],
   "source": [
    "import plotly.plotly as py\n",
    "import plotly.graph_objs as go\n",
    "import plotly.offline\n",
    "\n",
    "import requests\n",
    "\n",
    "from pprint import pprint\n",
    "from datetime import datetime as dt\n",
    "from datetime import timedelta"
   ]
  },
  {
   "cell_type": "code",
   "execution_count": 2,
   "metadata": {},
   "outputs": [],
   "source": [
    "# plotly.tools.set_credentials_file(username='ralfsantacruz', api_key='m43Oz35O5mKYCxDDJoDq')"
   ]
  },
  {
   "cell_type": "code",
   "execution_count": 3,
   "metadata": {},
   "outputs": [],
   "source": [
    "def num_hours_ago(hours):\n",
    "    \"\"\"\n",
    "    Returns UTC time x hours ago.\n",
    "    \"\"\"\n",
    "#     from datetime import datetime as dt\n",
    "    date = dt.utcnow() - timedelta(hours=hours)\n",
    "    return dt.strftime(date, \"%Y-%m-%dT%H:%M:%S\")"
   ]
  },
  {
   "cell_type": "code",
   "execution_count": 4,
   "metadata": {},
   "outputs": [],
   "source": [
    "def get_coords(location):\n",
    "    \"\"\"\n",
    "    Returns coordinates of address for given input.\n",
    "    \"\"\"\n",
    "    from config import g_api_key\n",
    "    base_url = f\"https://maps.googleapis.com/maps/api/geocode/json?address={location}&key={g_api_key}\"\n",
    "    \n",
    "    data = requests.get(base_url).json()\n",
    "    \n",
    "    try:\n",
    "        loc = data['results'][0]['geometry']['location']\n",
    "        \n",
    "        lat = loc['lat']\n",
    "        lng = loc['lng']\n",
    "    except:\n",
    "        return \"404\"\n",
    "    \n",
    "    return lat,lng"
   ]
  },
  {
   "cell_type": "code",
   "execution_count": 66,
   "metadata": {},
   "outputs": [],
   "source": [
    "def pollution(lat,lng):\n",
    "    \"\"\"\n",
    "    Returns pollution data from coordinates.\n",
    "    \"\"\"\n",
    "    from config import b_api_key \n",
    "    \n",
    "    end_datetime = num_hours_ago(1)\n",
    "    start_datetime = num_hours_ago(168)\n",
    "    \n",
    "    try:\n",
    "        base_url = f\"https://api.breezometer.com/air-quality/v2/historical/hourly?lat={lat}&lon={lng}&key={b_api_key}&start_datetime={start_datetime}&end_datetime={end_datetime}\"\n",
    "        data = requests.get(base_url).json()\n",
    "        return data\n",
    "    except:\n",
    "        return None"
   ]
  },
  {
   "cell_type": "code",
   "execution_count": 65,
   "metadata": {},
   "outputs": [],
   "source": [
    "def generate_plot(city):  \n",
    "    try:    \n",
    "        lat,lng = get_coords(city)\n",
    "    except ValueError:\n",
    "        return \"Error: We could not find the coordinates for the entry you supplied.\"\n",
    "\n",
    "    pollution_data = pollution(lat,lng)\n",
    "    \n",
    "    if pollution_data != None:\n",
    "        try:\n",
    "            x = [x['datetime'] for x in pollution_data['data'] if x['data_available'] == True]\n",
    "            y = [y['indexes']['baqi']['aqi'] for y in pollution_data['data'] if y['data_available'] == True]\n",
    "\n",
    "            text1 = [text['indexes']['baqi']['dominant_pollutant'] for text in pollution_data['data'] if text['data_available'] == True]\n",
    "            text2 = [text['indexes']['baqi']['category'] for text in pollution_data['data'] if text['data_available'] == True]\n",
    "\n",
    "            test = [f\"Dominant pollutant: {x}\\n{y}\" for x in text1 for y in text2]\n",
    "\n",
    "            data = [go.Scattergl(x=x,\n",
    "                               y=y, \n",
    "                               mode=\"markers\", \n",
    "                               marker=dict(\n",
    "                                size=12,\n",
    "                                color = y, #set color equal to a variable\n",
    "                                colorscale='Viridis',\n",
    "                                showscale=True\n",
    "                               ),  \n",
    "                               name=\"AQI\",\n",
    "                                text= test)]\n",
    "\n",
    "            layout = go.Layout(title=f\"AQI for {city.title()}\",\n",
    "                            xaxis=dict(title='Date'),\n",
    "                            yaxis=dict(title='AQI'))\n",
    "\n",
    "            fig = go.Figure(data=data, layout=layout)\n",
    "            \n",
    "            return py.plot(fig, filename='jupyter-basic_line',auto_open=False)\n",
    "        \n",
    "        except:\n",
    "            return \"404\"        "
   ]
  },
  {
   "cell_type": "markdown",
   "metadata": {},
   "source": [
    "# Calling functions to plot:"
   ]
  },
  {
   "cell_type": "code",
   "execution_count": 52,
   "metadata": {},
   "outputs": [],
   "source": [
    "# x,y = get_coords(\"beijing\")"
   ]
  },
  {
   "cell_type": "code",
   "execution_count": 53,
   "metadata": {},
   "outputs": [],
   "source": [
    "# print(x)\n",
    "# pollution_data = pollution(x,y)"
   ]
  },
  {
   "cell_type": "code",
   "execution_count": 86,
   "metadata": {},
   "outputs": [],
   "source": [
    "# generate_plot(\"san francisco\")\n",
    "\n",
    "# x = [x['datetime'] for x in pollution_data['data'] if x['data_available'] == True]\n",
    "# y = [y['indexes']['baqi']['aqi'] for y in pollution_data['data'] if y['data_available'] == True]\n",
    "# text1 = [text['indexes']['baqi']['dominant_pollutant'] for text in pollution_data['data'] if text['data_available'] == True]\n",
    "# text2 = [text['indexes']['baqi']['category'] for text in pollution_data['data'] if text['data_available'] == True]\n",
    "\n",
    "# test = [f\"Dominant pollutant: {x}\\n{y}\" for x,y in zip(text1,text2)]\n",
    "\n",
    "# data = [go.Scattergl(x=x,\n",
    "#                    y=y, \n",
    "#                    mode=\"markers\", \n",
    "#                    marker=dict(\n",
    "#                     size=10,\n",
    "#                     color = y, #set color equal to a variable\n",
    "#                     colorscale='Viridis',\n",
    "#                     showscale=True,\n",
    "#                     reversescale=True\n",
    "#                    ),  \n",
    "#                    name=\"AQI\",\n",
    "#                     text= test)]\n",
    "\n",
    "# layout = go.Layout(title=\"AQI for beijing\",\n",
    "#                 xaxis=dict(title='Date'),\n",
    "#                 yaxis=dict(title='AQI'))\n",
    "\n",
    "# fig = go.Figure(data=data, layout=layout)\n",
    "\n",
    "# # py.iplot(fig, filename='jupyter-basic_line')\n",
    "\n",
    "# p = plotly.offline.plot(fig, include_plotlyjs=False, output_type='div')"
   ]
  },
  {
   "cell_type": "code",
   "execution_count": 93,
   "metadata": {},
   "outputs": [],
   "source": [
    "# print(p)\n",
    "# print(text1)\n",
    "# print(text2)\n",
    "# print(test)\n",
    "# x,y = \"404\"\n",
    "# print(p)"
   ]
  }
 ],
 "metadata": {
  "kernelspec": {
   "display_name": "PythonData",
   "language": "python",
   "name": "pythondata"
  },
  "language_info": {
   "codemirror_mode": {
    "name": "ipython",
    "version": 3
   },
   "file_extension": ".py",
   "mimetype": "text/x-python",
   "name": "python",
   "nbconvert_exporter": "python",
   "pygments_lexer": "ipython3",
   "version": "3.6.0"
  }
 },
 "nbformat": 4,
 "nbformat_minor": 2
}
