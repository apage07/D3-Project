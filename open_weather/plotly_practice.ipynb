{
 "cells": [
  {
   "cell_type": "code",
   "execution_count": 12,
   "metadata": {},
   "outputs": [],
   "source": [
    "import plotly.plotly as py\n",
    "import plotly.graph_objs as go\n",
    "import plotly\n",
    "\n",
    "import pandas as pd\n",
    "import requests\n",
    "\n",
    "from pprint import pprint\n",
    "from datetime import datetime as dt\n",
    "from datetime import timedelta"
   ]
  },
  {
   "cell_type": "code",
   "execution_count": null,
   "metadata": {},
   "outputs": [],
   "source": [
    "plotly.tools.set_credentials_file(username='ralfsantacruz', api_key='m43Oz35O5mKYCxDDJoDq')"
   ]
  },
  {
   "cell_type": "code",
   "execution_count": 4,
   "metadata": {},
   "outputs": [],
   "source": [
    "def num_hours_ago(hours):\n",
    "    \"\"\"\n",
    "    Returns UTC time x hours ago.\n",
    "    \"\"\"\n",
    "#     from datetime import datetime as dt\n",
    "    date = dt.utcnow() - timedelta(hours=hours)\n",
    "    return dt.strftime(date, \"%Y-%m-%dT%H:%M:%S\")"
   ]
  },
  {
   "cell_type": "code",
   "execution_count": 5,
   "metadata": {},
   "outputs": [],
   "source": [
    "def get_coords(location):\n",
    "    \"\"\"\n",
    "    Returns coordinates of address for given input.\n",
    "    \"\"\"\n",
    "    from config import g_api_key\n",
    "    base_url = f\"https://maps.googleapis.com/maps/api/geocode/json?address={location}&key={g_api_key}\"\n",
    "    \n",
    "    data = requests.get(base_url).json()\n",
    "    loc = data['results'][0]['geometry']['location']\n",
    "    \n",
    "    lat = loc['lat']\n",
    "    lng = loc['lng']\n",
    "    \n",
    "    return lat,lng"
   ]
  },
  {
   "cell_type": "code",
   "execution_count": 6,
   "metadata": {},
   "outputs": [],
   "source": [
    "def pollution(lat,lng):\n",
    "    \"\"\"\n",
    "    Returns pollution data from coordinates.\n",
    "    \"\"\"\n",
    "    from config import b_api_key \n",
    "    \n",
    "    end_datetime = num_hours_ago(1)\n",
    "    start_datetime = num_hours_ago(168)\n",
    "    \n",
    "    try:\n",
    "        base_url = f\"https://api.breezometer.com/air-quality/v2/historical/hourly?lat={lat}&lon={lng}&key={b_api_key}&start_datetime={start_datetime}&end_datetime={end_datetime}\"\n",
    "        data = requests.get(base_url).json()        \n",
    "    except:\n",
    "        return None\n",
    "\n",
    "    return data"
   ]
  },
  {
   "cell_type": "code",
   "execution_count": 49,
   "metadata": {},
   "outputs": [],
   "source": [
    "def generate_plot(city):    \n",
    "    lat,lng = get_coords(city)\n",
    "    pollution_data = pollution(lat,lng)\n",
    "    \n",
    "    if pollution_data != None:\n",
    "        x = [x['datetime'] for x in pollution_data['data']]\n",
    "        y = [y['indexes']['baqi']['aqi'] for y in pollution_data['data']]\n",
    "        data = [go.Line(x=x,\n",
    "                    y=y)]\n",
    "\n",
    "        layout = go.Layout(title=f\"AQI for {city.title()}\",\n",
    "                        xaxis=dict(title='Date'),\n",
    "                        yaxis=dict(title='AQI'))\n",
    "\n",
    "        fig = go.Figure(data=data, layout=layout)\n",
    "        \n",
    "        return py.plot(fig, filename='jupyter-basic_line',auto_open=False)\n",
    "    else:\n",
    "        return \"404\""
   ]
  },
  {
   "cell_type": "markdown",
   "metadata": {},
   "source": [
    "# Calling functions to plot:"
   ]
  },
  {
   "cell_type": "code",
   "execution_count": 48,
   "metadata": {},
   "outputs": [],
   "source": [
    "x = generate_plot(\"san francisco\")"
   ]
  },
  {
   "cell_type": "code",
   "execution_count": 50,
   "metadata": {},
   "outputs": [
    {
     "name": "stdout",
     "output_type": "stream",
     "text": [
      "https://plot.ly/~ralfsantacruz/2\n"
     ]
    }
   ],
   "source": [
    "print(x)"
   ]
  },
  {
   "cell_type": "code",
   "execution_count": 45,
   "metadata": {},
   "outputs": [],
   "source": [
    "# generate_plot(\"san francisco\")"
   ]
  },
  {
   "cell_type": "code",
   "execution_count": 46,
   "metadata": {},
   "outputs": [],
   "source": [
    "# generate_plot(\"boston\")"
   ]
  }
 ],
 "metadata": {
  "kernelspec": {
   "display_name": "PythonData",
   "language": "python",
   "name": "pythondata"
  },
  "language_info": {
   "codemirror_mode": {
    "name": "ipython",
    "version": 3
   },
   "file_extension": ".py",
   "mimetype": "text/x-python",
   "name": "python",
   "nbconvert_exporter": "python",
   "pygments_lexer": "ipython3",
   "version": "3.6.0"
  }
 },
 "nbformat": 4,
 "nbformat_minor": 2
}
